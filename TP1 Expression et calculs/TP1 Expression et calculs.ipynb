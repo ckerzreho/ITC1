{
 "cells": [
  {
   "cell_type": "markdown",
   "id": "516b0d55",
   "metadata": {},
   "source": [
    "# TP1 Expressions et calculs\n",
    "#### Objectifs :\n",
    "- notions élémentaires : expression, type, affectation, variable\n",
    "- exprimer en python des formules mathématiques"
   ]
  },
  {
   "cell_type": "markdown",
   "id": "067a60b1",
   "metadata": {},
   "source": [
    "## A. Expressions avec flottants et entiers\n",
    "Une **expression** permet de créer un objet, une donnée. Ces objets sont nécessairement **typés**. Nous nous interessons aux types principaux permettant de coder des nombres : `int`et `float`.\n",
    "\n",
    "Le type **`int`** permet de définir et de manipuler des nombres **entiers**. Exemple : `1`, `-1023`.\n",
    "\n",
    "Le type **`float`**, pour **flottant**, permet de définir et de manipuler des nombres décimaux et rationnels. Ils comprennent systématiquement un point dans leur représentation textuelle pour les distinguer des entiers.\n",
    "\n",
    "Les nombres flottants peuvent être définis avec une **notation scientifique** : $3,56 \\times 10^{-3}$ s'écrit : `3.56e-3` , $10^5$ vaut $1 \\times 10^5$ et s'écrit `1e5`.\n",
    "\n",
    "**A faire :** exécuter les cellules ci-dessous en utilisant le raccourcis clavier majuscule+entrée. Analyser les résultats.\n"
   ]
  },
  {
   "cell_type": "code",
   "execution_count": null,
   "id": "59a605ba",
   "metadata": {},
   "outputs": [],
   "source": [
    "print(1) # entier 1\n",
    "print(-1023) # entier -1023\n",
    "print(type(1)) # type de 1 : int"
   ]
  },
  {
   "cell_type": "code",
   "execution_count": null,
   "id": "d850dfb6",
   "metadata": {},
   "outputs": [],
   "source": [
    "print(1.) # flottant 1. Le point le distingue de l'entier de même valeur.\n",
    "print(-1023.) # flottant -1023\n",
    "print(3.56e-3) # définition avec notation scientifique\n",
    "print(type(1.)) # type de 1. : float"
   ]
  },
  {
   "cell_type": "markdown",
   "id": "ced861b9",
   "metadata": {},
   "source": [
    "`1` et `3.56e-3` sont des expressions élémentaires qui indiquent à l'interpréteur de créer un entier ou un flottant comprenant les valeurs 1 et 0.00356. Le résultat est ensuite affiché sous forme de texte par la fonction `print`.\n",
    "\n",
    "Les valeurs peuvent être combinées à l'aide d'**opérateurs** pour donner des expressions un peu plus complexes.\n",
    "\n",
    "Les **opérateurs** usuels pour les nombres sont : \n",
    "- `+` et `-` pour l'addition et la soustraction\n",
    "- `*` et `/` pour la multiplication et la division\n",
    "- `**` pour l'élévation à une puissance : `2**4` pour $2^4$\n",
    "- `-`, opérateur unaire, pour l'opposé.\n",
    "\n",
    "Pour la multiplication, l'addition et la soustraction, si l'un des 2 termes est un flottant, le résultat est un flottant. Si les deux termes sont des entiers, le résultat est un entier.\n",
    "\n",
    "La division donne toujours un flottant.\n",
    "\n",
    "Les opérateurs spécifiques aux entiers sont :\n",
    "- `//` pour la division entière : `7//3` donne l'entier 2\n",
    "- `%` pour le modulo qui donne le reste de la division entière : `7%3` donne l'entier 1\n",
    "\n",
    "**Les expressions sont interprétées de gauche à droite en respectant les règles de priorité usuelles et les parenthèses.**"
   ]
  },
  {
   "cell_type": "markdown",
   "id": "72c871d7",
   "metadata": {},
   "source": [
    "**A faire :** déterminer les résultats des expressions ci-dessous dans l'interpréteur Python **sans utiliser les parenthèses** et en gardant la structure des expressions (par exemple, ne pas remplacer $2 \\times 5$ par 10). Remarquer que sans l'utilisation de l'instruction **`print`**, seul le dernier résultat est affiché. Repérer le type du résultat : entier ou flottant ?\n",
    "\n",
    "\n",
    "|   |   |  |  |  |\n",
    "| ------:| :-----------:| :--: | :--: |:--: |\n",
    "| Expressions :| $$3 \\times 2^{3}$$ | $$\\frac{1}{2^4}$$ | $$\\frac 3 {2 \\times 5} $$ | $$\\frac {3 \\times 2}{5 \\times 3^2}$$ |\n",
    "| Résultats : | 24| 0,0625 | 0,3 | 0,133 | \n",
    "\n",
    "*Par convention on place un espace autour des opérateurs principaux.*"
   ]
  },
  {
   "cell_type": "code",
   "execution_count": null,
   "id": "e483cb2d",
   "metadata": {},
   "outputs": [],
   "source": []
  },
  {
   "cell_type": "markdown",
   "id": "06b279b7",
   "metadata": {},
   "source": [
    "**A faire :** déterminer les résultats des expressions ci-dessous dans l'interpréteur Python. Vous devez **minimiser l'utilisation des parenthèses** tout en gardant les notations scientifiques et la structure des expressions (par exemple, ne pas remplacer $5^2-1$ par 24).\n",
    "\n",
    "*Mettre des espaces autour des opérateurs principaux*\n",
    "\n",
    "|   |   |  |  |  |\n",
    "| ------:| :-----------:| :--: | :--: |:--: |\n",
    "| Expressions :| $$\\frac{30+1,5 \\times 10^3} {5 \\times 2}$$ | $$\\frac{(8 \\times 2 + 3)(-7+3,5)}{16 \\times 3^2}$$ | $$\\frac{7+8,5}{5^2-1}-\\frac {10^{-3}} {8\\times 10^{-3} + 0,03}$$ | $$\\left( 2^3 - \\frac 1 4 \\right) ^2$$ |\n",
    "| Résultats : | 153| -0,4618 | 0,6195 | 60,0625 | \n"
   ]
  },
  {
   "cell_type": "code",
   "execution_count": null,
   "id": "79f78a11",
   "metadata": {},
   "outputs": [],
   "source": []
  },
  {
   "cell_type": "markdown",
   "id": "13ba5578",
   "metadata": {},
   "source": [
    "## B. Affectation du résultat d'une expression\n",
    "Dans les exemples précédents, les résultat des expressions étaient affichés (`print`) puis *oubliés*. L'affectation permet de de *sauvegarder* le résultat pour le réutiliser ensuite.\n",
    "\n",
    "L'**affectation est une instruction** python qui consiste à donner un **nom** à un objet existant, obtenu par évalution d'une expression. Ce **nom** est une suite de caractères sans espace, sans accent (même si c'est possible, on évitera), débutant par une lettre mais pouvant comprendre des chiffres ainsi que le caractère `_`. Les minimuscules et majuscules sont distinctes : `CPGE`, `Cpge`, `cpge` sont des noms différents.\n",
    "\n",
    "Le résultat devient ainsi une **variable** que l'on peut afficher ou utiliser dans d'autres expressions.\n",
    "\n",
    "L'**affectation** s'écrit avec le caractère `=` en **laissant un espace avant et après** par convention. L'instruction d'affectation ne doit pas être confondue avec l'égalité utilisée en mathématiques !\n",
    "```python\n",
    "leNom = expression # donne le nom leNom à l'objet obtenu par l'expression\n",
    "```\n",
    "Le nom de la variable doit être court mais aussi explicite. On utilisera `V` pour une vitesse par exemple.\n",
    "\n",
    "Exemples : `x1`, `somme`, `mot_grand`, `grandMot`\n",
    "\n",
    "**Dans le suite du sujet, toutes les cellules contenant du code doivent être éxécutées et le résultat analysé et compris.** Les raccourcis clavier sont :\n",
    "- Ctr+Entrée pour éxécuter la cellule courante\n",
    "- Majuscule+Entrée pour exécuter la cellule courante et passer à la suivant\n",
    "- Entrée pour modifier une cellule\n",
    "- les flèches haut/bas pour changer de cellule"
   ]
  },
  {
   "cell_type": "code",
   "execution_count": null,
   "id": "8a09eea7",
   "metadata": {},
   "outputs": [],
   "source": [
    "x = (3 + 2) / 10  # le nom x est donné au résultat de l'expression (3+1)/10, un flottant\n",
    "print(x) # affichage de l'objet de nom x\n",
    "print(2*x + 1) # affichage du résultat d'une expression utilisant x\n",
    "print(type(x)) # affichage du type de l'objet de nom x\n",
    "\n",
    "y = x     # y et x sont deux noms d'un même objet\n",
    "print(y)"
   ]
  },
  {
   "cell_type": "markdown",
   "id": "f6f9f86e",
   "metadata": {},
   "source": [
    "Remarque : les noms de variables ne doivent pas correspondrent aux 34 **mots réservés** ci-dessous (ils sont utilisés par le langage lui-même) :\n",
    "\n",
    "| | | | | | | |\n",
    "| ---|--- |--- |--- |--- |--- |---|\n",
    "|and | as | assert | break | class | continue | def|\n",
    "|del | elif|else|except|False|finally|for|\n",
    "|from|global|if|import|in|is|lambda|\n",
    "|None|nonlocal|not|or|pass|print|raise|\n",
    "|return|True|try|while|with|yield| |"
   ]
  },
  {
   "cell_type": "markdown",
   "id": "5d301795",
   "metadata": {},
   "source": [
    "## C. Utilisation de fonctions mathématiques\n",
    "\n",
    "Les fonctions mathématiques usuelles sont regroupées dans le module `math`. L'import des fonctions est réalisé à l'aide du mot clef `import`.\n",
    "\n",
    "- Pour importer uniquement les fonctions sinus, cosinus et la constante correspondant à $\\pi$. Ces fonctions sont alors directement utilisables : `print(cos(pi/2))` doit afficher le flottant 0 (ou proche)\n",
    "\n",
    "```python\n",
    "from math import sin, cos, pi\n",
    "```\n",
    "\n",
    "- Pour importer tous les objets (fonctions et constantes) du module `math`. C'est la façon usuelle d'importer cette bibliothèque lorsque l'objectif est de réaliser du traitement de données numériques\n",
    "```python\n",
    "from math import *\n",
    "```\n",
    "\n",
    "Il est aussi possible d'importer le module `math` : `import math`. Dans ce cas, il faut utiliser le préfixe `math.` pour accéder aux objets du module. Pour le calcul de $\\cos(\\pi/2)$ il faut alors écrire : `math.cos(math.pi / 2)` ce qui est moins pratique.\n",
    "\n",
    "Les fonctions et objets usuels sont :\n",
    "- `abs` pour le calcul de la valeur absolue (ou le module pour un complexe)\n",
    "- `sqrt` pour la racine carrée\n",
    "- `cos`, `sin`, `tan`, `acos`, `asin`, `atan` pour les fonctions trigonométriques\n",
    "- `exp`, `log`, `log10` pour les fonctions exponentielles, logarithme népérien et logarithme en base 10\n",
    "- `pi` et `e` pour les constantes $\\pi$ et $e$\n",
    "\n",
    "**A faire :** \n",
    "- importer le module math et excécuter la cellule. Le module math est importé dans l'**espace des noms**\n",
    "- taper sur une nouvelle ligne `math.` puis appuyer sur la touche *tabulation* du clavier. La liste des objets du module math doit s'afficher. Ce processus est appelé **autocomplétion**. Parcourir rapidement la liste avec les flèches haut/bas."
   ]
  },
  {
   "cell_type": "code",
   "execution_count": null,
   "id": "5440bc37",
   "metadata": {},
   "outputs": [],
   "source": []
  },
  {
   "cell_type": "markdown",
   "id": "4037b7dc",
   "metadata": {},
   "source": [
    "**A faire :**\n",
    "- importer tous les objets de la bibliothèque `math` \n",
    "- calculer $\\tan(\\pi/4)$, $\\tan(\\pi/2)$ (qu'en déduire ?)"
   ]
  },
  {
   "cell_type": "code",
   "execution_count": null,
   "id": "47bdbe44",
   "metadata": {},
   "outputs": [],
   "source": []
  },
  {
   "cell_type": "markdown",
   "id": "5a8c5492",
   "metadata": {},
   "source": [
    "## D. Calculs avec valeurs intermédiaires"
   ]
  },
  {
   "attachments": {
    "concentration-3.png": {
     "image/png": "[encoded data removed]"
    }
   },
   "cell_type": "markdown",
   "id": "f9eb53de",
   "metadata": {},
   "source": [
    "### Exemple d'utilisation : dégradation d'une boisson dans l'organisme\n",
    "\n",
    "La cinétique de dégradation d'une boisson alcoolisée dans l’organisme donne une évolution temporelle de sa concentration dans le sang régie par l'équation :\n",
    "\n",
    "$C_2(t)=\\frac{V_1}{V_2}C_{01} (1-e^{-k_1 t})-k_2 t$ en mol/L, $t$ en min,\n",
    "\n",
    "avec :\n",
    "\n",
    "- $C_{01}=0,90$ mol/L, concentration initiale dans l'estomac,\n",
    "- $V_1=1,0$ L, le volume de boisson absorbé,\n",
    "- $V_2=40$ L, le volume total de liquide et de sang dans le corps humain,\n",
    "- $k_1=0,17$ /min, la constante de vitesse caractéristique de la 1ère phase,\n",
    "- $k_2=71 \\times 10^{-6}$ mol/L/min, la constante de vitesse caractéristique de la 2ème phase.\n",
    "\n",
    "On rappelle qu'en France, une personne ne peut conduire que si le taux d’alcool dans son sang ne dépasse pas $C_{2max}=0,50$ g/L, soit $0,011$ mol/L.\n",
    "\n",
    "Le tracé de $C_2$ en fonction du temps donne la figure ci-dessous.\n",
    "![concentration-3.png](attachment:concentration-3.png)\n",
    "\n",
    "**A faire :** \n",
    "- définir des variables correspondant à $C_{01}$, $V_1$, $V_2$, $k_1$, $k_2$. Puis, déterminer la concentration résiduelle au bout d'une heure (*par calcul direct, ne pas écrire de fonction, même si vous savez le faire*). Vérifier votre résultat avec la courbe. Cette concentration est-elle acceptable pour pouvoir conduire ?\n",
    "- déterminer graphiquement et très approximativement la durée nécessaire pour descendre en dessous du taux légal. Le vérifier par calcul."
   ]
  },
  {
   "cell_type": "code",
   "execution_count": null,
   "id": "3ee336a5",
   "metadata": {},
   "outputs": [],
   "source": [
    "C01 = \n",
    "V1 = \n",
    "V2 = \n",
    "k1 = \n",
    "k2 = \n",
    "\n",
    "t = \n",
    "C2 = "
   ]
  },
  {
   "attachments": {
    "tension.png": {
     "image/png": "[encoded data removed]"
    }
   },
   "cell_type": "markdown",
   "id": "a2786ec4",
   "metadata": {},
   "source": [
    "### Exemple d'utilisation : circuit RLC\n",
    "En physique, vous étudierez le comportement temporel d'un circuit électrique constitué d'un condensateur, d'une résistance et d'une bobine placés en série. Le tracé de la tension aux bornes du condensateur en fonction du temps est donné ci-dessous. Il s'agit d'un relevé expérimental d'un TP que vous ferez très probablement.\n",
    "![tension.png](attachment:tension.png)\n",
    "\n",
    "Les caractéristiques du circuit (en USI) sont :\n",
    "- résistance électrique de la résistance : $R=400 ~\\Omega$\n",
    "- capacité du condensateur : $C=105 \\times 10^{-9}$ F\n",
    "- inductance de la bobine : $L=0,9$ H.\n",
    "\n",
    "La tension initiale est $U_0=9,8$ V.\n",
    "\n",
    "L'évolution temporelle de ce circuit peut être modélisée par une équation différentielle de degré 2 dont la solution est donnée ci-dessous.\n",
    "\n",
    "Avec : $z=\\frac R 2 \\sqrt{\\frac C L} $ le facteur d'amortissement, $\\omega_0=\\frac 1 {\\sqrt{LC}}$ la pulsation propre\n",
    "\n",
    "et aussi $\\omega_a = \\omega_0 \\sqrt {1-z^2}$ et $\\phi = \\arctan \\frac{\\sqrt{1-z^2}} z$ \n",
    "\n",
    "$$u(t) = U_0 \\frac 1 {\\sqrt {1-z^2}} e^{-\\omega_0 z t} \\sin \\left(\\omega_a t + \\phi \\right)$$\n",
    "\n",
    "**A faire :**\n",
    "- définir les constantes et commenter (caractère `#` en indiquant l'unité et/ou la grandeur physique)\n",
    "- définir les variables intermédiaires associées à $z$, $\\omega_0$, $\\omega_a$ et $\\phi$\n",
    "- calculer la tension aux instants $t=0,005$ s et $t=0,0075$ s. Les résultats de ce modèle correspondent-ils aux résultats expérimentaux ?\n",
    "\n",
    "*Remarques : dans un prochain TP, nous tracerons les courbes.* Ne pas oublier les espaces autour des affectations et des opérateurs principaux.\n"
   ]
  },
  {
   "cell_type": "code",
   "execution_count": null,
   "id": "fb1abbaf",
   "metadata": {},
   "outputs": [],
   "source": [
    "\n"
   ]
  }
 ],
 "metadata": {
  "kernelspec": {
   "display_name": "Python 3",
   "language": "python",
   "name": "python3"
  },
  "language_info": {
   "codemirror_mode": {
    "name": "ipython",
    "version": 3
   },
   "file_extension": ".py",
   "mimetype": "text/x-python",
   "name": "python",
   "nbconvert_exporter": "python",
   "pygments_lexer": "ipython3",
   "version": "3.7.7"
  }
 },
 "nbformat": 4,
 "nbformat_minor": 5
}
